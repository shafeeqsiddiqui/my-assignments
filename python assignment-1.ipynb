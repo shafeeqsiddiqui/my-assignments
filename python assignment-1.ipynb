{
 "cells": [
  {
   "cell_type": "code",
   "execution_count": 3,
   "id": "cc7e0205",
   "metadata": {},
   "outputs": [
    {
     "data": {
      "text/plain": [
       "'\\n#1. In the below elements which of them are values or an expression? eg:- values can be\\ninteger or string and expressions will be mathematical operators.\\n* -expression\\n\\'hello\\'- value\\n-87.8 - value\\n-  expression\\n/ - expression\\n+   expression\\n6 - value\\n\\n2. What is the difference between string and variable?\\n\\nAns2- A string is a type of value that can be stored in a variable. A string is made up of characters,\\nand can include letters, words, phrases, or symbols.\\n\\nA Variable is a store of information, and a String is a type of information you would store in a\\nVariable. A String is usually words, enclosed with \"\"\\nEg\\nString x =\"Welcome to SoloLearn\"\\nX is the Variable, and we declared it as a String, use the single = to assign the text to it.\\n\\n3. Describe three different data types.\\nAns3- Three data types are-\\n(a)Integer (int)\\nIt is the most common numeric data type used to store numbers without a fractional \\ncomponent (-707, 0, 707).\\n(b)String (str)\\nIt is a sequence of characters and the most commonly used data type to store text. Additionally, a\\nstring can also include digits and symbols, however, it is always treated as text. It is enclosed in \\nsingle quote or double quote, E.g- \"this is my first assignment\" \\n\\n4. What is an expression made up of? What do all expressions do?\\nAns4- Expression: An expression is a combination of operators, constants and variables. An expression\\nmay consist of one or more operands, and zero or more operators to produce a value. \\nE.g- x * y, x + int( 5.0)\\nAn expression is a construct made up of variables, operators, and method invocations, which are\\nconstructed according to the syntax of the language, that evaluates to a single value. \\n\\n5. This assignment statements, like spam = 10. What is the difference between an\\nexpression and a statement?\\nAns5-Expression is made up of values, containers, and mathematical operators (operands) and the \\nstatement is just like a command that a python interpreter executes like print.\\n\\n6. After running the following code, what does the variable bacon contain?\\nbacon = 22\\nbacon + 1\\nAns6- Variiable bacon contain 22 and bacon+1 gives23\\n\\n7. What should the values of the following two terms be?\\n\\'spam\\'+\\'spamspam\\'\\n\\'spam\\'*3\\nAns7-Both gives same value \\'spamspamspam\\'\\n\\n8. Why is eggs a valid variable name while 100 is invalid?\\nAns8-eggs is valid variable name because it start with alphabet but 100 is invalid because variable\\nname cannot start with numbers.\\n\\n9. What three functions can be used to get the integer, floating-point number, or string\\nversion of a value?\\nAns9- str(), int(), float()\\n\\n10. Why does this expression cause an error? How can you fix it?\\n\\n\\'I have eaten\\' + 99 + \\'burritos\\' \\nAns10- Concatenation is not possible different data types to fix this covert all this in same data \\ntype.'"
      ]
     },
     "execution_count": 3,
     "metadata": {},
     "output_type": "execute_result"
    }
   ],
   "source": [
    "'''\n",
    "#1. In the below elements which of them are values or an expression? eg:- values can be\n",
    "integer or string and expressions will be mathematical operators.\n",
    "* -expression\n",
    "'hello'- value\n",
    "-87.8 - value\n",
    "-  expression\n",
    "/ - expression\n",
    "+   expression\n",
    "6 - value\n",
    "\n",
    "2. What is the difference between string and variable?\n",
    "\n",
    "Ans2- A string is a type of value that can be stored in a variable. A string is made up of characters,\n",
    "and can include letters, words, phrases, or symbols.\n",
    "\n",
    "A Variable is a store of information, and a String is a type of information you would store in a\n",
    "Variable. A String is usually words, enclosed with \"\"\n",
    "Eg\n",
    "String x =\"Welcome to SoloLearn\"\n",
    "X is the Variable, and we declared it as a String, use the single = to assign the text to it.\n",
    "\n",
    "3. Describe three different data types.\n",
    "Ans3- Three data types are-\n",
    "(a)Integer (int)\n",
    "It is the most common numeric data type used to store numbers without a fractional \n",
    "component (-707, 0, 707).\n",
    "(b)String (str)\n",
    "It is a sequence of characters and the most commonly used data type to store text. Additionally, a\n",
    "string can also include digits and symbols, however, it is always treated as text. It is enclosed in \n",
    "single quote or double quote, E.g- \"this is my first assignment\" \n",
    "\n",
    "4. What is an expression made up of? What do all expressions do?\n",
    "Ans4- Expression: An expression is a combination of operators, constants and variables. An expression\n",
    "may consist of one or more operands, and zero or more operators to produce a value. \n",
    "E.g- x * y, x + int( 5.0)\n",
    "An expression is a construct made up of variables, operators, and method invocations, which are\n",
    "constructed according to the syntax of the language, that evaluates to a single value. \n",
    "\n",
    "5. This assignment statements, like spam = 10. What is the difference between an\n",
    "expression and a statement?\n",
    "Ans5-Expression is made up of values, containers, and mathematical operators (operands) and the \n",
    "statement is just like a command that a python interpreter executes like print.\n",
    "\n",
    "6. After running the following code, what does the variable bacon contain?\n",
    "bacon = 22\n",
    "bacon + 1\n",
    "Ans6- Variiable bacon contain 22 and bacon+1 gives23\n",
    "\n",
    "7. What should the values of the following two terms be?\n",
    "'spam'+'spamspam'\n",
    "'spam'*3\n",
    "Ans7-Both gives same value 'spamspamspam'\n",
    "\n",
    "8. Why is eggs a valid variable name while 100 is invalid?\n",
    "Ans8-eggs is valid variable name because it start with alphabet but 100 is invalid because variable\n",
    "name cannot start with numbers.\n",
    "\n",
    "9. What three functions can be used to get the integer, floating-point number, or string\n",
    "version of a value?\n",
    "Ans9- str(), int(), float()\n",
    "\n",
    "10. Why does this expression cause an error? How can you fix it?\n",
    "\n",
    "'I have eaten' + 99 + 'burritos' \n",
    "Ans10- Concatenation is not possible different data types to fix this covert all this in same data \n",
    "type.'''"
   ]
  },
  {
   "cell_type": "code",
   "execution_count": 4,
   "id": "1fe4e5df",
   "metadata": {},
   "outputs": [],
   "source": [
    "#6. After running the following code, what does the variable bacon contain?\n",
    "\n",
    "bacon = 22"
   ]
  },
  {
   "cell_type": "code",
   "execution_count": 5,
   "id": "49418b15",
   "metadata": {},
   "outputs": [
    {
     "data": {
      "text/plain": [
       "23"
      ]
     },
     "execution_count": 5,
     "metadata": {},
     "output_type": "execute_result"
    }
   ],
   "source": [
    "bacon+1"
   ]
  },
  {
   "cell_type": "code",
   "execution_count": 6,
   "id": "8801a15b",
   "metadata": {},
   "outputs": [
    {
     "data": {
      "text/plain": [
       "'spamspamspam'"
      ]
     },
     "execution_count": 6,
     "metadata": {},
     "output_type": "execute_result"
    }
   ],
   "source": [
    "#7. What should the values of the following two terms be?\n",
    "\n",
    "'spam' + 'spamspam'"
   ]
  },
  {
   "cell_type": "code",
   "execution_count": 7,
   "id": "1c4d6c82",
   "metadata": {},
   "outputs": [
    {
     "data": {
      "text/plain": [
       "'spamspamspam'"
      ]
     },
     "execution_count": 7,
     "metadata": {},
     "output_type": "execute_result"
    }
   ],
   "source": [
    "'spam'*3"
   ]
  },
  {
   "cell_type": "code",
   "execution_count": 11,
   "id": "3ee7adc5",
   "metadata": {},
   "outputs": [
    {
     "data": {
      "text/plain": [
       "'I have eaten99burritos'"
      ]
     },
     "execution_count": 11,
     "metadata": {},
     "output_type": "execute_result"
    }
   ],
   "source": [
    "#10\n",
    "'I have eaten' +  str(99)  + 'burritos' "
   ]
  },
  {
   "cell_type": "code",
   "execution_count": null,
   "id": "86de091a",
   "metadata": {},
   "outputs": [],
   "source": []
  }
 ],
 "metadata": {
  "kernelspec": {
   "display_name": "Python 3 (ipykernel)",
   "language": "python",
   "name": "python3"
  },
  "language_info": {
   "codemirror_mode": {
    "name": "ipython",
    "version": 3
   },
   "file_extension": ".py",
   "mimetype": "text/x-python",
   "name": "python",
   "nbconvert_exporter": "python",
   "pygments_lexer": "ipython3",
   "version": "3.9.12"
  }
 },
 "nbformat": 4,
 "nbformat_minor": 5
}
