{
 "cells": [
  {
   "cell_type": "code",
   "execution_count": 1,
   "id": "749c972b",
   "metadata": {},
   "outputs": [],
   "source": [
    "#1. What is the name of the feature responsible for generating Regex objects?\n",
    "#Ans1:  The re. compile() function returns Regex objects."
   ]
  },
  {
   "cell_type": "code",
   "execution_count": 2,
   "id": "679776e7",
   "metadata": {},
   "outputs": [],
   "source": [
    "#2. Why do raw strings often appear in Regex objects?\n",
    "#Ans2- Raw strings are used so that backslashes do not have to be escaped."
   ]
  },
  {
   "cell_type": "code",
   "execution_count": 3,
   "id": "03c217ce",
   "metadata": {},
   "outputs": [],
   "source": [
    "#3. What is the return value of the search() method?\n",
    "#Ans3- The re.search() function takes two parameters and returns a match object if there is a \n",
    "#match. If there is more than one match, only the first occurrence of the match will be returned.\n",
    "# If no matches are found, the value None is returned."
   ]
  },
  {
   "cell_type": "code",
   "execution_count": 4,
   "id": "06d3dc43",
   "metadata": {},
   "outputs": [],
   "source": [
    "#4. From a Match item, how do you get the actual strings that match the pattern?\n",
    "#Ans4- The group() method returns strings of the matched text. "
   ]
  },
  {
   "cell_type": "code",
   "execution_count": 5,
   "id": "75e716ad",
   "metadata": {},
   "outputs": [],
   "source": [
    "#5. In the regex which created from the r'(\\d\\d\\d)-(\\d\\d\\d-\\d\\d\\d\\d)', what does group \n",
    "# zero cover? Group 2? Group 1?\n",
    "#Ans5- Group 0 is the entire match, group 1 covers the first set of parentheses, and group 2 \n",
    "# covers the second set of parentheses."
   ]
  },
  {
   "cell_type": "code",
   "execution_count": 1,
   "id": "ff968562",
   "metadata": {},
   "outputs": [],
   "source": [
    "#6. In standard expression syntax, parentheses and intervals have distinct meanings. How can you\n",
    "# tell a regex that you want it to fit real parentheses and periods?\n",
    "#Ans6- Periods and parentheses can be escaped with a backslash: \\., \\(, and \\)."
   ]
  },
  {
   "cell_type": "code",
   "execution_count": 2,
   "id": "102fc878",
   "metadata": {},
   "outputs": [],
   "source": [
    "#7. The findall() method returns a string list or a list of string tuples. What causes it to\n",
    "# return one of the two options?\n",
    "#Ans7- If the regex has no groups, a list of strings is returned. If the regex has groups, a list\n",
    "# of tuples of strings is returned."
   ]
  },
  {
   "cell_type": "code",
   "execution_count": 3,
   "id": "b2f0c88c",
   "metadata": {},
   "outputs": [],
   "source": [
    "#8. In standard expressions, what does the | character mean?\n",
    "#"
   ]
  },
  {
   "cell_type": "code",
   "execution_count": 4,
   "id": "45d23ad9",
   "metadata": {},
   "outputs": [],
   "source": [
    "#9. In regular expressions, what does the character stand for?\n",
    "#Ans8- All characters, except those having special meaning in regex, matches themselves.\n",
    "# E.g., the regex x matches substring \"x\" ; regex 9 matches \"9\" ; regex = matches \"=\" ; and regex @ matches \"@\" ."
   ]
  },
  {
   "cell_type": "code",
   "execution_count": 6,
   "id": "5dfc971b",
   "metadata": {},
   "outputs": [],
   "source": [
    "#10.In regular expressions, what is the difference between the + and * characters?\n",
    "#Ans9- '+' operator denotes repetition of operand 1 or more times and\n",
    "# '*' denotes the repetition of operand for zero or more times."
   ]
  },
  {
   "cell_type": "code",
   "execution_count": 9,
   "id": "f5616a47",
   "metadata": {},
   "outputs": [],
   "source": [
    "#12. What do you mean by the \\d, \\w, and \\s shorthand character classes signify in regular\n",
    "# expressions?\n",
    "#Ans- 12-The \\D, \\W, and \\S shorthand character classes match a single character that is not a \n",
    "# digit, word, or space character, respectively."
   ]
  },
  {
   "cell_type": "code",
   "execution_count": 10,
   "id": "84c8a76e",
   "metadata": {},
   "outputs": [],
   "source": [
    "#Ans13. What do means by \\D, \\W, and \\S shorthand character classes signify in regular expressions?\n",
    "#Ans13- The \\D, \\W, and \\S shorthand character classes match a single character that is not a\n",
    "# digit, word, or space character, respectively."
   ]
  },
  {
   "cell_type": "code",
   "execution_count": 1,
   "id": "76d46005",
   "metadata": {},
   "outputs": [],
   "source": [
    "#14. What is the difference between .*? and .*?\n",
    "#Ans14- (.*?) matches any character (.) any number of times (*), as few times as possible to make\n",
    "# the regex match (?). You'll get a match on any string, but you'll only capture a blank string\n",
    "# because of the question mark.\n",
    "# (.*)? captures a group zero or one times (?). That group consists of a run of any length (*) \n",
    "# of any character (.)."
   ]
  },
  {
   "cell_type": "code",
   "execution_count": 2,
   "id": "982c6fa6",
   "metadata": {},
   "outputs": [],
   "source": [
    "#15. What is the syntax for matching both numbers and lowercase letters with a character class?\n",
    "#Ans15- the regular expression \"[ A-Za-z] \" specifies to match any single uppercase or lowercaseletter."
   ]
  },
  {
   "cell_type": "code",
   "execution_count": 1,
   "id": "c5c1fda9",
   "metadata": {},
   "outputs": [],
   "source": [
    "#16. What is the procedure for making a normal expression in regax case insensitive?\n",
    "#Ans16- The re. IGNORECASE is used as a flag to enable case insensitive searching within a text. It will consider the characters [A-Z] the same as [a-z] for a string."
   ]
  },
  {
   "cell_type": "code",
   "execution_count": 2,
   "id": "8ba1cc49",
   "metadata": {},
   "outputs": [],
   "source": [
    "#17. What does the . character normally match? What does it match if re.DOTALL is passed as 2nd argument in re.compile()?\n",
    "#Ans17- The . character in a regular expression is called a wildcard and will match any character except for a newline.\n",
    "# The dot-star will match everything except a newline. By passing re.DOTALL as the second argument to re.compile(), you can make \n",
    "# the dot character match all characters, including the newline character. For example, newlineRegex = re.compile('.*', re.DOTALL)"
   ]
  },
  {
   "cell_type": "code",
   "execution_count": 6,
   "id": "885a8d2a",
   "metadata": {},
   "outputs": [],
   "source": [
    "#18. If numReg = re.compile(r'\\d+'), what will numRegex.sub('X','11 drummers, 10 pipers, five rings, 4 hen') return?\n",
    "#Ans18- X drummers, X pipers, five rings, X hens"
   ]
  },
  {
   "cell_type": "code",
   "execution_count": 7,
   "id": "396249f9",
   "metadata": {},
   "outputs": [],
   "source": [
    "#19. What does passing re.VERBOSE as the 2nd argument to re.compile() allow to do?\n",
    "#Ans19- To ignore whitespace and comments inside the regular expression string."
   ]
  },
  {
   "cell_type": "code",
   "execution_count": 9,
   "id": "c78d9e66",
   "metadata": {},
   "outputs": [],
   "source": [
    "#20. How would you write a regex that match a number with comma for every three digits? It must match the given following:\n",
    "#'42'\n",
    "#'1,234'\n",
    "#'6,368,745'\n",
    "# but not the following:\n",
    "#'12,34,567' (which has only two digits between the commas)\n",
    "#'1234' (which lacks commas)\n",
    "#Ans20- numCommas = re.compile(r'(^\\d{1,3})(,\\d{3})*$') numCommas.search('12,34,567').group()"
   ]
  },
  {
   "cell_type": "code",
   "execution_count": 11,
   "id": "b27480e4",
   "metadata": {},
   "outputs": [
    {
     "data": {
      "text/plain": [
       "\"21. How would you write a regex that matches the full name of someone whose last name is\\nWatanabe? You can assume that the first name that comes before it will always be one word that\\nbegins with a capital letter. The regex must match the following:\\n'Haruto Watanabe'\\n'Alice Watanabe'\\n'RoboCop Watanabe'\\nbut not the following:\\n'haruto Watanabe' (where the first name is not capitalized)\\n'Mr. Watanabe'(where the preceding word has a nonletter character)\\n'Watanabe'(which has no first name)\\n'Haruto watanabe'(where Watanabe is not capitalized)\""
      ]
     },
     "execution_count": 11,
     "metadata": {},
     "output_type": "execute_result"
    }
   ],
   "source": [
    "\"\"\"21. How would you write a regex that matches the full name of someone whose last name is\n",
    "Watanabe? You can assume that the first name that comes before it will always be one word that\n",
    "begins with a capital letter. The regex must match the following:\n",
    "'Haruto Watanabe'\n",
    "'Alice Watanabe'\n",
    "'RoboCop Watanabe'\n",
    "but not the following:\n",
    "'haruto Watanabe' (where the first name is not capitalized)\n",
    "'Mr. Watanabe'(where the preceding word has a nonletter character)\n",
    "'Watanabe'(which has no first name)\n",
    "'Haruto watanabe'(where Watanabe is not capitalized)\"\"\"\n",
    "#Ans21- fullName = re.compile(r'[A-Z]\\w [A-Z]\\w') mo = fullName.findall('Haruto Watanabe, Alice  #Watanabe, Nakamoto, Robocop Watanabe') mo.group()"
   ]
  },
  {
   "cell_type": "code",
   "execution_count": null,
   "id": "c7f65ea8",
   "metadata": {},
   "outputs": [],
   "source": [
    "\"\"\"\n",
    "22. How would you write a regex that matches a sentence where the first word is either Alice, Bob,\n",
    "or Carol; the second word is either eats, pets, or throws; the third word is apples, cats, or baseballs;\n",
    "and the sentence ends with a period? This regex should be case-insensitive. It must match the\n",
    "following:\n",
    "'Alice eats apples.''\n",
    "'Bob pets cats.''\n",
    "'Carol throws baseballs.''\n",
    "'Alice throws Apples.''\n",
    "'BOB EATS CATS.''\n",
    "but not the following:\n",
    "'RoboCop eats apples.''\n",
    "'ALICE THROWS FOOTBALLS.'\n",
    "'Carol eats 7 cats.''\n",
    "\"\"\"\n",
    "#Ans22- senRegex = re.compile(r'(Alice|Bob|Carol)\\s(eats|pets|throws)\\s(apples|cats|baseballs).', re.I|re.DOTALL)\n",
    "\n",
    "#enRegex.findall('''Alice eats apples.'\n",
    "\n",
    "#Bob pets cats.'\n",
    "\n",
    "#Carol throws baseballs.'\n",
    "\n",
    "#Alice throws Apples.'\n",
    "\n",
    "#BOB EATS CATS.'"
   ]
  }
 ],
 "metadata": {
  "kernelspec": {
   "display_name": "Python 3 (ipykernel)",
   "language": "python",
   "name": "python3"
  },
  "language_info": {
   "codemirror_mode": {
    "name": "ipython",
    "version": 3
   },
   "file_extension": ".py",
   "mimetype": "text/x-python",
   "name": "python",
   "nbconvert_exporter": "python",
   "pygments_lexer": "ipython3",
   "version": "3.9.12"
  }
 },
 "nbformat": 4,
 "nbformat_minor": 5
}
