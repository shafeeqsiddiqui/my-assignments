{
 "cells": [
  {
   "cell_type": "code",
   "execution_count": 7,
   "id": "f03f9d40",
   "metadata": {},
   "outputs": [
    {
     "name": "stdout",
     "output_type": "stream",
     "text": [
      "Requirement already satisfied: pyinputplus in c:\\users\\pc\\anaconda3\\lib\\site-packages (0.2.12)\n",
      "Requirement already satisfied: pysimplevalidate>=0.2.7 in c:\\users\\pc\\anaconda3\\lib\\site-packages (from pyinputplus) (0.2.12)\n",
      "Requirement already satisfied: stdiomask>=0.0.3 in c:\\users\\pc\\anaconda3\\lib\\site-packages (from pyinputplus) (0.0.6)\n"
     ]
    }
   ],
   "source": [
    "#1. Is the Python Standard Library included with PyInputPlus?1. Is the Python Standard Library included with PyInputPlus?\n",
    "#Ans. PyInputPlus is not a part of the Python Standard Library, so you must install it separately using Pip\n",
    "!pip install pyinputplus"
   ]
  },
  {
   "cell_type": "code",
   "execution_count": 8,
   "id": "c9d4c7fb",
   "metadata": {},
   "outputs": [],
   "source": [
    "#Q. Why is PyInputPlus commonly imported with import pyinputplus as pypi?\n",
    "#Ans2- Ans. pypi is alias of PyInputPlus. The as pyip code in the import statement saves us from typing pyinputplus each time we want to call a PyInputPlus function. Instead we can use the shorter pyip name"
   ]
  },
  {
   "cell_type": "code",
   "execution_count": 2,
   "id": "31ca77cc",
   "metadata": {
    "scrolled": true
   },
   "outputs": [
    {
     "name": "stdout",
     "output_type": "stream",
     "text": [
      "7.8\n",
      "'7.8' is not an integer.\n",
      "7\n",
      "9\n"
     ]
    },
    {
     "data": {
      "text/plain": [
       "9.0"
      ]
     },
     "execution_count": 2,
     "metadata": {},
     "output_type": "execute_result"
    }
   ],
   "source": [
    "#Q. How do you distinguish between inputInt() and inputFloat()?\n",
    "#Ans3- Ans. inputInt() : Accepts an integer value, and returns int value\n",
    "# inputFloat() : Accepts integer/floating point value and returns float value\n",
    "import pyinputplus as pyip\n",
    "pyip.inputInt()\n",
    "pyip.inputFloat()"
   ]
  },
  {
   "cell_type": "code",
   "execution_count": 3,
   "id": "f6d96ada",
   "metadata": {},
   "outputs": [
    {
     "name": "stdout",
     "output_type": "stream",
     "text": [
      "777\n",
      "Number must be at maximum 99.\n",
      "66\n"
     ]
    },
    {
     "data": {
      "text/plain": [
       "66"
      ]
     },
     "execution_count": 3,
     "metadata": {},
     "output_type": "execute_result"
    }
   ],
   "source": [
    "#Q. Using PyInputPlus, how do you ensure that the user enters a whole number between 0 and 99?\n",
    "#Ans-Ans. In the inputint function we can set the min = 0 and max =99 to ensure user enters number between 0 and 99\n",
    "pyip.inputInt(min = 0, max =99)"
   ]
  },
  {
   "cell_type": "code",
   "execution_count": null,
   "id": "e78bdbc3",
   "metadata": {
    "scrolled": true
   },
   "outputs": [],
   "source": [
    "#Q. What is transferred to the keyword arguments allowRegexes and blockRegexes?\n",
    "#Ans- Ans. We can also use regular expressions to specify whether an input is allowed or not. \n",
    "#The allowRegexes and blockRegexes keyword arguments take a list of regular expression strings to determine what the PyInputPlus function will accept or reject as valid input.\n",
    "response = pyip.inputNum(allowRegexes=[r'(I|V|X|L|C|D|M)+', r'zero']) # it allowes roman letters as numbers too\n",
    "X"
   ]
  },
  {
   "cell_type": "code",
   "execution_count": null,
   "id": "562503c3",
   "metadata": {},
   "outputs": [],
   "source": [
    "response = pyip.inputNum(blockRegexes=[r'[02468]$'])# blocks the even numbers\n",
    "2"
   ]
  },
  {
   "cell_type": "code",
   "execution_count": null,
   "id": "91bf43b9",
   "metadata": {},
   "outputs": [],
   "source": [
    "#Q. If a blank input is entered three times, what does inputStr(limit=3) do?\n",
    "#Ans. It will throw RetryLimitException exception.\n",
    "response = pyip.inputStr(limit=3)"
   ]
  },
  {
   "cell_type": "code",
   "execution_count": 17,
   "id": "296c02b2",
   "metadata": {},
   "outputs": [
    {
     "name": "stdout",
     "output_type": "stream",
     "text": [
      "\n",
      "Blank values are not allowed.\n",
      "\n",
      "Blank values are not allowed.\n",
      "\n",
      "Blank values are not allowed.\n"
     ]
    },
    {
     "data": {
      "text/plain": [
       "'hello'"
      ]
     },
     "execution_count": 17,
     "metadata": {},
     "output_type": "execute_result"
    }
   ],
   "source": [
    "#Q. If blank input is entered three times, what does inputStr(limit=3, default='hello') do?\n",
    "#Ans- When you use limit keyword arguments and also pass a default keyword argument, the function returns the default value instead of raising an exception\n",
    "response = pyip.inputStr(limit=3,default='hello')\n",
    "response"
   ]
  },
  {
   "cell_type": "code",
   "execution_count": null,
   "id": "37de2431",
   "metadata": {},
   "outputs": [],
   "source": []
  }
 ],
 "metadata": {
  "kernelspec": {
   "display_name": "Python 3 (ipykernel)",
   "language": "python",
   "name": "python3"
  },
  "language_info": {
   "codemirror_mode": {
    "name": "ipython",
    "version": 3
   },
   "file_extension": ".py",
   "mimetype": "text/x-python",
   "name": "python",
   "nbconvert_exporter": "python",
   "pygments_lexer": "ipython3",
   "version": "3.9.12"
  }
 },
 "nbformat": 4,
 "nbformat_minor": 5
}
