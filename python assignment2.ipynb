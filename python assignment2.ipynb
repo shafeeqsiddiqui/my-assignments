{
 "cells": [
  {
   "cell_type": "code",
   "execution_count": 3,
   "id": "893fc9aa",
   "metadata": {},
   "outputs": [],
   "source": [
    "#1.What are the two values of the Boolean data type? How do you write them?\n",
    "#Ans1- There are two Boolean. values: True and False.It has two possible values: True and False , \n",
    "# which are special versions of 1 and 0 respectively and behave as such in arithmetic contexts.\n"
   ]
  },
  {
   "cell_type": "code",
   "execution_count": 5,
   "id": "6a3268f4",
   "metadata": {},
   "outputs": [],
   "source": [
    "#2.What are the three different types of Boolean operators?\n",
    "#Ans2-There are three logical operators that are used to compare values. They evaluate expressions\n",
    "#down to Boolean values, returning either True or False . These operators are and , or , and not."
   ]
  },
  {
   "cell_type": "code",
   "execution_count": 6,
   "id": "ad06e40c",
   "metadata": {},
   "outputs": [],
   "source": [
    "#3. Make a list of each Boolean operator's truth tables (i.e. every possible combination of \n",
    "#Boolean values for the operator and what it evaluate ).\n",
    "#Ans3-Truth table are:\n",
    "# And -\n",
    "#        p  q   pandq\n",
    "#        1  1    1\n",
    "#        1  o    0\n",
    "#        0  1    0\n",
    "#        0  0    0\n",
    "# OR-\n",
    "#        p  q   porq\n",
    "#        1  1    1\n",
    "#        1  0    1\n",
    "#        0  1    1\n",
    "#        0  0    0\n",
    "#NOT-\n",
    "#        p   notp\n",
    "#        1    0\n",
    "#        0    1\n"
   ]
  },
  {
   "cell_type": "code",
   "execution_count": 7,
   "id": "dd9fa652",
   "metadata": {},
   "outputs": [],
   "source": [
    "#4. What are the values of the following expressions?\n",
    "#(5>4) and (3 == 5)\n",
    "#not (5>4)\n",
    "#(5>4) or (3 == 5)\n",
    "#not ((5>4) or (3 == 5))\n",
    "#(True and True) and (True == False)\n",
    "#(not False) or (not True)\n",
    "#Ans4- false\n",
    "#      false\n",
    "#      True\n",
    "#      false\n",
    "#      false\n",
    "#      true"
   ]
  },
  {
   "cell_type": "code",
   "execution_count": 8,
   "id": "37309d8d",
   "metadata": {},
   "outputs": [],
   "source": [
    "#5. What are the six comparison operators?\n",
    "#Ans-5Python has six comparison operators, which are as follows:\n",
    "#Less than ( < )\n",
    "#Less than or equal to (<=)\n",
    "#Greater than (>)\n",
    "#Greater than or equal to (>=)\n",
    "#Equal to ( == )\n",
    "#Not equal to ( != )"
   ]
  },
  {
   "cell_type": "code",
   "execution_count": 9,
   "id": "bd39babc",
   "metadata": {},
   "outputs": [
    {
     "name": "stdout",
     "output_type": "stream",
     "text": [
      "computer True\n"
     ]
    }
   ],
   "source": [
    "#6.How do you tell the difference between the equal to and assignment operators?Describe a\n",
    "# condition and when you would use one.\n",
    "#Ans- The “=” is an assignment operator is used to assign the value on the right to the variable\n",
    "#on the left. The '==' operator checks whether the two given operands are equal or not. If so,\n",
    "#it returns true. Otherwise it returns false.\n",
    "a=\"computer\"\n",
    "x=45\n",
    "y=45\n",
    "print(a,x==y)"
   ]
  },
  {
   "cell_type": "code",
   "execution_count": 11,
   "id": "de0e07f1",
   "metadata": {},
   "outputs": [
    {
     "name": "stdout",
     "output_type": "stream",
     "text": [
      "ham\n",
      "spam\n",
      "spam\n"
     ]
    }
   ],
   "source": [
    "#7. Identify the three blocks in this code:\n",
    "spam = 0\n",
    "if spam == 10:\n",
    "    print('eggs')\n",
    "if spam >5:\n",
    "    print('bacon')\n",
    "else:\n",
    "    print('ham')\n",
    "    print('spam')\n",
    "    print('spam')"
   ]
  },
  {
   "cell_type": "code",
   "execution_count": 17,
   "id": "78b41fd1",
   "metadata": {},
   "outputs": [
    {
     "name": "stdout",
     "output_type": "stream",
     "text": [
      "Greetings!\n"
     ]
    }
   ],
   "source": [
    "#8. Write code that prints Hello if 1 is stored in spam, prints Howdy if 2 is stored in spam, \n",
    "# and prints Greetings! if anything else is stored in spam.\n",
    "if spam == 1:\n",
    "    print('Hello')\n",
    "elif spam == 2:\n",
    "    print('Howdy')\n",
    "else:\n",
    "    print('Greetings!')\n",
    "        "
   ]
  },
  {
   "cell_type": "code",
   "execution_count": 19,
   "id": "d5ab306d",
   "metadata": {},
   "outputs": [],
   "source": [
    "# 9.If your programme is stuck in an endless loop, what keys you’ll press?\n",
    "#Ans9- Press CTRL-C to stop a program stuck in an infinite loop."
   ]
  },
  {
   "cell_type": "code",
   "execution_count": 20,
   "id": "7e98b252",
   "metadata": {},
   "outputs": [],
   "source": [
    "#10. How can you tell the difference between break and continue?\n",
    "#Ans10- The break statement will move the execution outside and just after a loop. The continue\n",
    "# statement will move the execution to the start of the loop."
   ]
  },
  {
   "cell_type": "code",
   "execution_count": 24,
   "id": "0ef06954",
   "metadata": {},
   "outputs": [],
   "source": [
    "#11. In a for loop, what is the difference between range(10), range(0, 10), and range(0, 10, 1)?\n",
    "#Ans11- They all do the same thing. The range(10) call ranges from 0 up to (but not including) \n",
    "# 10, range(0, 10) explicitly tells the loop to start at 0, and range(0, 10, 1) explicitly tells\n",
    "# the loop to increase the variable by 1 on each iteration.\n"
   ]
  },
  {
   "cell_type": "code",
   "execution_count": 31,
   "id": "23cb8dcf",
   "metadata": {},
   "outputs": [
    {
     "name": "stdout",
     "output_type": "stream",
     "text": [
      "1\n",
      "2\n",
      "3\n",
      "4\n",
      "5\n",
      "6\n",
      "7\n",
      "8\n",
      "9\n",
      "10\n",
      "1\n",
      "2\n",
      "3\n",
      "4\n",
      "5\n",
      "6\n",
      "7\n",
      "8\n",
      "9\n",
      "10\n"
     ]
    }
   ],
   "source": [
    "#12. Write a short program that prints the numbers 1 to 10 using a for loop. Then write an \n",
    "#equivalent program that prints the numbers 1 to 10 using a while loop.\n",
    "for i in range(1,11):\n",
    "    print(i)\n",
    "i=1\n",
    "while i<=10:\n",
    "    print(i)\n",
    "    i= i+1\n",
    "        "
   ]
  },
  {
   "cell_type": "code",
   "execution_count": null,
   "id": "e77fb35c",
   "metadata": {},
   "outputs": [],
   "source": [
    "#13. If you had a function named bacon() inside a module named spam, how would you call it after\n",
    "#importing spam?\n",
    "#Ans13- This function can be called with spam.bacon()."
   ]
  }
 ],
 "metadata": {
  "kernelspec": {
   "display_name": "Python 3 (ipykernel)",
   "language": "python",
   "name": "python3"
  },
  "language_info": {
   "codemirror_mode": {
    "name": "ipython",
    "version": 3
   },
   "file_extension": ".py",
   "mimetype": "text/x-python",
   "name": "python",
   "nbconvert_exporter": "python",
   "pygments_lexer": "ipython3",
   "version": "3.9.12"
  }
 },
 "nbformat": 4,
 "nbformat_minor": 5
}
