{
 "cells": [
  {
   "cell_type": "markdown",
   "id": "afdd170f",
   "metadata": {},
   "source": [
    "1. Create an assert statement that throws an AssertionError if the variable spam is a negative\n",
    "integer."
   ]
  },
  {
   "cell_type": "code",
   "execution_count": null,
   "id": "9cee2223",
   "metadata": {},
   "outputs": [],
   "source": []
  },
  {
   "cell_type": "markdown",
   "id": "36b706c7",
   "metadata": {},
   "source": [
    "2. Write an assert statement that triggers an AssertionError if the variables eggs and bacon contain\n",
    "strings that are the same as each other, even if their cases are different (that is, 'hello' and 'hello'are\n",
    "considered the same, and 'goodbye' and 'GOODbye' are also considered the same)."
   ]
  },
  {
   "cell_type": "code",
   "execution_count": 1,
   "id": "d49bbeea",
   "metadata": {},
   "outputs": [],
   "source": [
    " #Ans2.: assert(eggs.lower() != bacon.lower(), 'The eggs and bacon variables are the same!') or assert(eggs.upper() != bacon.upper(), 'The eggs and bacon variables are the same!') "
   ]
  },
  {
   "cell_type": "markdown",
   "id": "ad0e5323",
   "metadata": {},
   "source": [
    "3. Create an assert statement that throws an AssertionError every time."
   ]
  },
  {
   "cell_type": "code",
   "execution_count": 2,
   "id": "80945a48",
   "metadata": {},
   "outputs": [],
   "source": [
    "#Ans3. assert(False, 'This assertion always triggers.') "
   ]
  },
  {
   "cell_type": "markdown",
   "id": "c7a7fad5",
   "metadata": {},
   "source": [
    "4. What are the two lines that must be present in your software in order to call logging.debug()?"
   ]
  },
  {
   "cell_type": "code",
   "execution_count": 3,
   "id": "59687b96",
   "metadata": {},
   "outputs": [],
   "source": [
    "#Ans. To be able to call logging.debug(), you must have these two lines at the start of your program: \n",
    "# import logging logging.basicConfig(level=logging.DEBUG, format=' %(asctime)s -  %(levelname)s -  %(message)s') "
   ]
  },
  {
   "cell_type": "markdown",
   "id": "c52fbea9",
   "metadata": {},
   "source": [
    "5. What are the two lines that your program must have in order to have logging.debug() send a\n",
    "logging message to a file named programLog.txt?"
   ]
  },
  {
   "cell_type": "code",
   "execution_count": 4,
   "id": "ba6fd83d",
   "metadata": {},
   "outputs": [],
   "source": [
    "import logging \n",
    "logging.basicConfig(filename='programLog.txt', level=logging.DEBUG, format=' %(asctime)s -  %(levelname)s -  %(message)s') "
   ]
  },
  {
   "cell_type": "markdown",
   "id": "c76dfb1f",
   "metadata": {},
   "source": [
    "6. What are the five levels of logging?"
   ]
  },
  {
   "cell_type": "code",
   "execution_count": 5,
   "id": "7a6d2913",
   "metadata": {},
   "outputs": [],
   "source": [
    " #Ans. DEBUG, INFO, WARNING, ERROR, and CRITICAL"
   ]
  },
  {
   "cell_type": "markdown",
   "id": "2ada2e5f",
   "metadata": {},
   "source": [
    "7. What line of code would you add to your software to disable all logging messages?"
   ]
  },
  {
   "cell_type": "code",
   "execution_count": 6,
   "id": "d2c0f340",
   "metadata": {},
   "outputs": [],
   "source": [
    "#Ans. logging.disable(logging.CRITICAL"
   ]
  },
  {
   "cell_type": "markdown",
   "id": "a2ae5e5d",
   "metadata": {},
   "source": [
    "8.Why is using logging messages better than using print() to display the same message?"
   ]
  },
  {
   "cell_type": "code",
   "execution_count": 7,
   "id": "f0f65d83",
   "metadata": {},
   "outputs": [],
   "source": [
    "#You can disable logging messages without removing the logging function calls. \n",
    "#You can selectively disable lower-level logging messages. \n",
    "#You can create logging messages. Logging messages provides a timestamp.  "
   ]
  },
  {
   "cell_type": "markdown",
   "id": "73eb3485",
   "metadata": {},
   "source": [
    "9. What are the differences between the Step Over, Step In, and Step Out buttons in the debugger?"
   ]
  },
  {
   "cell_type": "code",
   "execution_count": 8,
   "id": "0b847202",
   "metadata": {},
   "outputs": [],
   "source": [
    "#The Step button will move the debugger into a function call. \n",
    "#The Over button will quickly execute the function call without stepping into it. \n",
    "#The Out button will quickly execute the rest of the code until it steps out of the function it currently is in."
   ]
  },
  {
   "cell_type": "markdown",
   "id": "2f215fa7",
   "metadata": {},
   "source": [
    "10.After you click Continue, when will the debugger stop ?"
   ]
  },
  {
   "cell_type": "code",
   "execution_count": 9,
   "id": "f25e837d",
   "metadata": {},
   "outputs": [],
   "source": [
    "#Ans. click Go, the debugger will stop when it has reached the end of the program or a line with a breakpoint."
   ]
  },
  {
   "cell_type": "markdown",
   "id": "be5a333f",
   "metadata": {},
   "source": [
    "11. What is the concept of a breakpoint?"
   ]
  },
  {
   "cell_type": "code",
   "execution_count": null,
   "id": "ca8ecca6",
   "metadata": {},
   "outputs": [],
   "source": [
    "#Ans.  breakpoint is a setting on a line of code that causes the debugger to pause when the program execution reaches the line"
   ]
  }
 ],
 "metadata": {
  "kernelspec": {
   "display_name": "Python 3 (ipykernel)",
   "language": "python",
   "name": "python3"
  },
  "language_info": {
   "codemirror_mode": {
    "name": "ipython",
    "version": 3
   },
   "file_extension": ".py",
   "mimetype": "text/x-python",
   "name": "python",
   "nbconvert_exporter": "python",
   "pygments_lexer": "ipython3",
   "version": "3.9.12"
  }
 },
 "nbformat": 4,
 "nbformat_minor": 5
}
