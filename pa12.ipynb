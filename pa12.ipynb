{
 "cells": [
  {
   "cell_type": "markdown",
   "id": "8f8a9d3d",
   "metadata": {},
   "source": [
    "1. In what modes should the PdfFileReader() and PdfFileWriter() File objects will be opened?"
   ]
  },
  {
   "cell_type": "markdown",
   "id": "9acae2da",
   "metadata": {},
   "source": [
    "Ans1.These files will be opened in binary mode., read binary (rb) for PdfFileREader() and write binary (wb) PdfFileWriter() "
   ]
  },
  {
   "cell_type": "code",
   "execution_count": 1,
   "id": "e067d492",
   "metadata": {},
   "outputs": [
    {
     "name": "stdout",
     "output_type": "stream",
     "text": [
      "Collecting PyPDF2\n",
      "  Downloading PyPDF2-2.2.1-py3-none-any.whl (189 kB)\n",
      "Requirement already satisfied: typing-extensions in c:\\users\\pc\\anaconda3\\lib\\site-packages (from PyPDF2) (4.1.1)\n",
      "Installing collected packages: PyPDF2\n",
      "Successfully installed PyPDF2-2.2.1\n"
     ]
    }
   ],
   "source": [
    "!pip install PyPDF2"
   ]
  },
  {
   "cell_type": "markdown",
   "id": "ddcff845",
   "metadata": {},
   "source": [
    "2. From a PdfFileReader object, how do you get a Page object for page 5?"
   ]
  },
  {
   "cell_type": "markdown",
   "id": "42903d24",
   "metadata": {},
   "source": [
    "Ans2. Calling getPage(4) will return a Page object for page 5 since page 0 is the first page"
   ]
  },
  {
   "cell_type": "code",
   "execution_count": 6,
   "id": "4a0e799f",
   "metadata": {},
   "outputs": [
    {
     "data": {
      "text/plain": [
       "'  \\n \\n \\n(c) eaDocX Ltd 2012\\n \\n \\n\\n5\\n \\n \\n\\n \\n\\n1 \\n-\\n \\nA unique, patented piece of software \\n -\\n \\nTravelOptimizer™ \\n-\\n \\nthat compares modes of transport to \\n\\nproduce the best customer soluti\\n on. It\\'s a bit like the travel directions software that motoring \\n\\ncompanies use, except multi\\n -\\nmodal. \\n \\n\\n“Best” can be based on \\n  \\n\\n\\uf0b7\\n \\nCheapest \\n \\n\\n\\uf0b7\\n \\nFastest \\n \\n\\n\\uf0b7\\n \\nLowest carbon\\n-\\nfootprint \\n \\n\\nThis is not where we will make the money (quotes are free) \\n –\\n \\nthe profit comes from the commissions \\n\\non booking hotels etc, but the multi\\n -\\nmodel quote is what we believe will make people keep using \\n\\nthe site, especially the carbon footprint feature. TravelOpti\\n mizer keeps a database of maps, travel \\n\\nroutes, possible costs (not quotes, just general rates for typical journeys) from many TBML suppliers. \\n  \\n\\n2. A new XML\\n-\\nbased international standard for exchange\\n  \\nof travel information &\\n  \\nquotes and \\n\\npayment of fees: TBML, managed by TBMLCo. This makes integrating new travel service suppliers a \\n\\nsimple, non\\n-\\nIT process, removing the need for aggregators like SABRE or AMADEUS. TBML requires \\n\\nthe following steps: \\n \\n\\n\\uf0b7\\n \\n\"Establish” where the parties e\\n xchange information about fees etc. Fees are set by the TBML \\n\\nstandards committee: only a supplier that wants to charge fees outside of that requires \\n\\nmanual intervention \\n \\n\\n\\uf0b7\\n \\n“Quote” \\n–\\n \\ninfo from requester to supplier, with details of what\\'s needed. Fee payable \\n by \\n\\nrequester. Details of travel returned to requester. \\n  \\n\\n\\uf0b7\\n \\n“Book” \\n–\\n \\nas Quote, but with a booking ref, and larger fees payable. \\n  \\n\\n\\uf0b7\\n \\n\"Settle” \\n–\\n \\nwhere suppliers & requestors get billed & paid by the TBML organisation. \\n  '"
      ]
     },
     "execution_count": 6,
     "metadata": {},
     "output_type": "execute_result"
    }
   ],
   "source": [
    "import PyPDF2 as pdf\n",
    "pdfFileObj = open(\"sample3.pdf\",'rb')\n",
    "pdfReader = pdf.PdfFileReader(pdfFileObj)\n",
    "pageObj = pdfReader.getPage(4)\n",
    "pageObj.extractText()"
   ]
  },
  {
   "cell_type": "markdown",
   "id": "e18c9ba5",
   "metadata": {},
   "source": [
    "3. What PdfFileReader variable stores the number of pages in the PDF document?"
   ]
  },
  {
   "cell_type": "code",
   "execution_count": 7,
   "id": "36d334e4",
   "metadata": {},
   "outputs": [
    {
     "data": {
      "text/plain": [
       "20"
      ]
     },
     "execution_count": 7,
     "metadata": {},
     "output_type": "execute_result"
    }
   ],
   "source": [
    "import PyPDF2 as pdf\n",
    "pdfFileObj = open(\"sample3.pdf\",'rb')\n",
    "pdfReader = pdf.PdfFileReader(pdfFileObj)\n",
    "pdfReader.numPages"
   ]
  },
  {
   "cell_type": "markdown",
   "id": "8e8c234a",
   "metadata": {},
   "source": [
    "4. If a PdfFileReader object’s PDF is encrypted with the password swordfish, what must you do\n",
    "before you can obtain Page objects from it?"
   ]
  },
  {
   "cell_type": "markdown",
   "id": "7d9f2994",
   "metadata": {},
   "source": [
    "Ans. Before we obtain the page object, the pdf has to be decrypted by calling .decrypt('swordfish')"
   ]
  },
  {
   "cell_type": "markdown",
   "id": "1649fdb2",
   "metadata": {},
   "source": [
    "5. What methods do you use to rotate a page?"
   ]
  },
  {
   "cell_type": "code",
   "execution_count": 8,
   "id": "878de06e",
   "metadata": {},
   "outputs": [],
   "source": [
    "#pageObj.rotateClockwise(180)\n",
    "\n",
    "#The rotateClockwise() and rotateCounterClockwise() methods. The degrees to rotate is passed as an integer argument"
   ]
  },
  {
   "cell_type": "markdown",
   "id": "3e60090c",
   "metadata": {},
   "source": [
    "Q. What is the difference between a Run object and a Paragraph object?"
   ]
  },
  {
   "cell_type": "code",
   "execution_count": 9,
   "id": "fa38537a",
   "metadata": {},
   "outputs": [],
   "source": [
    "#Ans Paragraph Object : A document contains multiple paragraphs. A paragraph begins on a new line and contains multiple runs. The Document object contains a list of Paragraph objects for the paragraphs in the document. (A new paragraph begins whenever the user presses ENTER or RETURN while typing in a Word document.)\n",
    "# Run Objects : Runs are contiguous groups of characters within a paragraph with the same style"
   ]
  },
  {
   "cell_type": "markdown",
   "id": "ec62750b",
   "metadata": {},
   "source": [
    "7. How do you obtain a list of Paragraph objects for a Document object that’s stored in a variable\n",
    "named doc?"
   ]
  },
  {
   "cell_type": "code",
   "execution_count": 11,
   "id": "3cc216a5",
   "metadata": {},
   "outputs": [],
   "source": [
    "#!pip install python-docx\n",
    "# import docx\n",
    "# doc = docx.Document('abc.docx')\n",
    "# doc.paragraphs\n",
    "#By using doc.paragraphs"
   ]
  },
  {
   "cell_type": "markdown",
   "id": "b397c616",
   "metadata": {},
   "source": [
    "8. What type of object has bold, underline, italic, strike, and outline variables?"
   ]
  },
  {
   "cell_type": "markdown",
   "id": "f5d8ff86",
   "metadata": {},
   "source": [
    "Ans. A Run object has bold, underline,italic,strike and outline variables"
   ]
  },
  {
   "cell_type": "markdown",
   "id": "09c44191",
   "metadata": {},
   "source": [
    "9. What is the difference between False, True, and None for the bold variable?"
   ]
  },
  {
   "cell_type": "raw",
   "id": "d88d8990",
   "metadata": {},
   "source": [
    "Ans9. Runs can be further styled using text attributes. Each attribute can be set to one of three values:\n",
    "True (the attribute is always enabled, no matter what other styles are applied to the run),\n",
    "False (the attribute is always disabled),\n",
    "None (defaults to whatever the run’s style is set to)\n",
    "\n",
    "True always makes the Run object bolded and False makes it always not bolded, no matter what the style’s bold setting is. None will make the Run object just use the style’s bold setting"
   ]
  },
  {
   "cell_type": "markdown",
   "id": "66de877f",
   "metadata": {},
   "source": [
    "10. How do you create a Document object for a new Word document?"
   ]
  },
  {
   "cell_type": "raw",
   "id": "9b163236",
   "metadata": {},
   "source": [
    "Ans10. Ans. By Calling the docx.Document() function."
   ]
  },
  {
   "cell_type": "markdown",
   "id": "1031b9c7",
   "metadata": {},
   "source": [
    "11. How do you add a paragraph with the text &#39;Hello, there!&#39; to a Document object stored in a\n",
    "variable named doc?"
   ]
  },
  {
   "cell_type": "raw",
   "id": "ac76177d",
   "metadata": {},
   "source": [
    "import docx\n",
    "doc = docx.Document()\n",
    "\n",
    "doc.add_paragraph('Hello there!')\n",
    "doc.save('hellothere.docx')"
   ]
  },
  {
   "cell_type": "markdown",
   "id": "23d98961",
   "metadata": {},
   "source": [
    "12. What integers represent the levels of headings available in Word documents?"
   ]
  },
  {
   "cell_type": "raw",
   "id": "5d909008",
   "metadata": {},
   "source": [
    "Ans12. integer from 0 to 4\n",
    "The arguments to add_heading() are a string of the heading text and an integer from 0 to 4. The integer 0 makes the heading the Title style, which is used for the top of the document. Integers 1 to 4 are for various heading levels, with 1 being the main heading and 4 the lowest subheading"
   ]
  },
  {
   "cell_type": "code",
   "execution_count": null,
   "id": "c390dc59",
   "metadata": {},
   "outputs": [],
   "source": []
  }
 ],
 "metadata": {
  "kernelspec": {
   "display_name": "Python 3 (ipykernel)",
   "language": "python",
   "name": "python3"
  },
  "language_info": {
   "codemirror_mode": {
    "name": "ipython",
    "version": 3
   },
   "file_extension": ".py",
   "mimetype": "text/x-python",
   "name": "python",
   "nbconvert_exporter": "python",
   "pygments_lexer": "ipython3",
   "version": "3.9.12"
  }
 },
 "nbformat": 4,
 "nbformat_minor": 5
}
