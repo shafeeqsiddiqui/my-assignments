{
 "cells": [
  {
   "cell_type": "code",
   "execution_count": 1,
   "id": "53a9f6b0",
   "metadata": {},
   "outputs": [],
   "source": [
    "#1. What exactly is []?\n",
    "#Ans-1 The empty list value, which is a list value that contains no items."
   ]
  },
  {
   "cell_type": "code",
   "execution_count": 3,
   "id": "e9a584b6",
   "metadata": {},
   "outputs": [
    {
     "name": "stdout",
     "output_type": "stream",
     "text": [
      "[2, 4, 'hello', 8]\n"
     ]
    }
   ],
   "source": [
    "#2.In a list of values stored in a variable called spam, how would you assign the value 'hello' \n",
    "#as the third value? (Assume [2, 4, 6, 8, 10] are in spam.)\n",
    "#Let's pretend the spam includes the list ['a','b', 'c','d'] for the next three queries.\n",
    "#Ans2-\n",
    "spam=[2,4,6,8]\n",
    "spam[2]='hello'\n",
    "print(spam)"
   ]
  },
  {
   "cell_type": "code",
   "execution_count": 5,
   "id": "ef756f06",
   "metadata": {},
   "outputs": [
    {
     "data": {
      "text/plain": [
       "'d'"
      ]
     },
     "execution_count": 5,
     "metadata": {},
     "output_type": "execute_result"
    }
   ],
   "source": [
    "#3. What is the value of spam[int(int('3'*2) / 11)]?\n",
    "spam = ['a', 'b','c','d']\n",
    "spam[int(int('3' * 2) / 11)]\n",
    "                                     "
   ]
  },
  {
   "cell_type": "code",
   "execution_count": 6,
   "id": "f950cbff",
   "metadata": {},
   "outputs": [
    {
     "data": {
      "text/plain": [
       "'d'"
      ]
     },
     "execution_count": 6,
     "metadata": {},
     "output_type": "execute_result"
    }
   ],
   "source": [
    "#4. What is the value of spam[-1]?\n",
    "#Ans4- \n",
    "spam[-1]"
   ]
  },
  {
   "cell_type": "code",
   "execution_count": 7,
   "id": "357d0c11",
   "metadata": {},
   "outputs": [
    {
     "data": {
      "text/plain": [
       "['a', 'b']"
      ]
     },
     "execution_count": 7,
     "metadata": {},
     "output_type": "execute_result"
    }
   ],
   "source": [
    "#5. What is the value of spam[:2]?\n",
    "#Ans5-\n",
    "spam[:2]"
   ]
  },
  {
   "cell_type": "code",
   "execution_count": 16,
   "id": "49aecb0c",
   "metadata": {},
   "outputs": [
    {
     "data": {
      "text/plain": [
       "1"
      ]
     },
     "execution_count": 16,
     "metadata": {},
     "output_type": "execute_result"
    }
   ],
   "source": [
    "#Let's pretend bacon has the list [3.14,  'cat', 11, 'cat' ,True] for the next three questions.\n",
    "#6. What is the value of bacon.index('cat')?\n",
    "#Ans6- \n",
    "bacon=[3.14,'cat', 11, 'cat', True]\n",
    "bacon.index('cat')"
   ]
  },
  {
   "cell_type": "code",
   "execution_count": 17,
   "id": "eaba3286",
   "metadata": {},
   "outputs": [
    {
     "data": {
      "text/plain": [
       "[3.14, 'cat', 11, 'cat', True, 99]"
      ]
     },
     "execution_count": 17,
     "metadata": {},
     "output_type": "execute_result"
    }
   ],
   "source": [
    "#7. How does bacon.append(99) change the look of the list value in bacon?\n",
    "bacon.append(99)\n",
    "bacon"
   ]
  },
  {
   "cell_type": "code",
   "execution_count": 18,
   "id": "8f2b2e31",
   "metadata": {},
   "outputs": [
    {
     "data": {
      "text/plain": [
       "[3.14, 11, 'cat', True, 99]"
      ]
     },
     "execution_count": 18,
     "metadata": {},
     "output_type": "execute_result"
    }
   ],
   "source": [
    "#8. How does bacon.remove('cat') change the look of the list in bacon?\n",
    "#Ans8- it's remove first cat from the index\n",
    "bacon.remove('cat')\n",
    "bacon"
   ]
  },
  {
   "cell_type": "code",
   "execution_count": 19,
   "id": "824d49cd",
   "metadata": {},
   "outputs": [],
   "source": [
    "#9. What are the list concatenation and list replication operators?\n",
    "#Ans9-The operator for list concatenation is +, while the operator for replication is *"
   ]
  },
  {
   "cell_type": "code",
   "execution_count": 20,
   "id": "13fa4014",
   "metadata": {},
   "outputs": [
    {
     "data": {
      "text/plain": [
       "[3.14, 'cat', 11, 'cat', True, 99]"
      ]
     },
     "execution_count": 20,
     "metadata": {},
     "output_type": "execute_result"
    }
   ],
   "source": [
    "#10. What is difference between the list methods append() and insert()?\n",
    "#Ans10- append() Appends object to the end of the list\n",
    "#       insert() Insert object before index\n",
    "bacon = [3.14, 'cat', 11, 'cat', True]\n",
    "bacon.append(99) # append adds the item at the end of the list\n",
    "bacon"
   ]
  },
  {
   "cell_type": "code",
   "execution_count": 22,
   "id": "a1bc983e",
   "metadata": {},
   "outputs": [
    {
     "data": {
      "text/plain": [
       "[2, 4, 'world', 6, 8, 10]"
      ]
     },
     "execution_count": 22,
     "metadata": {},
     "output_type": "execute_result"
    }
   ],
   "source": [
    "# solution by inserting value in 3rd index\n",
    "spam = [2, 4, 6, 8, 10]\n",
    "spam.insert(2,'world')\n",
    "spam"
   ]
  },
  {
   "cell_type": "code",
   "execution_count": 24,
   "id": "24a907e5",
   "metadata": {},
   "outputs": [
    {
     "data": {
      "text/plain": [
       "[3.14, 11, 'world', True]"
      ]
     },
     "execution_count": 24,
     "metadata": {},
     "output_type": "execute_result"
    }
   ],
   "source": [
    "#11. What are the two methods for removing items from a list?\n",
    "#Ans11- #remove(item) - removeds first occurence of a item\n",
    "bacon = [3.14, 'world', 11, 'world', True]\n",
    "bacon.remove('world')\n",
    "bacon"
   ]
  },
  {
   "cell_type": "code",
   "execution_count": 25,
   "id": "690cd49f",
   "metadata": {},
   "outputs": [
    {
     "data": {
      "text/plain": [
       "[3.14, 'cat', 11, 'cat']"
      ]
     },
     "execution_count": 25,
     "metadata": {},
     "output_type": "execute_result"
    }
   ],
   "source": [
    "#pop() - Remove and returns item at index (default last).\n",
    "bacon = [3.14, 'cat', 11, 'cat', True]\n",
    "bacon.pop()\n",
    "bacon"
   ]
  },
  {
   "cell_type": "code",
   "execution_count": 26,
   "id": "dea4b6ca",
   "metadata": {},
   "outputs": [],
   "source": [
    "#12. Describe how list values and string values are identical.\n",
    "#Ans12- Both lists and strings can be passed to len()\n",
    "# Have indexes and slices\n",
    "# Can be used in for loops\n",
    "# Can be concatenated or replicated\n",
    "# Can be used with the in and not in operators"
   ]
  },
  {
   "cell_type": "code",
   "execution_count": 27,
   "id": "0f96dc97",
   "metadata": {},
   "outputs": [],
   "source": [
    "#13. What is the difference between tuples and lists?\n",
    "#Ans13- Lists : are mutable - they can have values added, removed, or changed. lists use the \n",
    "# square brackets [ and ]\n",
    "# Tuples are immutable they cannot be changed at all. Tuples are written using parentheses, {and}"
   ]
  },
  {
   "cell_type": "code",
   "execution_count": 36,
   "id": "c518b77f",
   "metadata": {},
   "outputs": [
    {
     "data": {
      "text/plain": [
       "(42,)"
      ]
     },
     "execution_count": 36,
     "metadata": {},
     "output_type": "execute_result"
    }
   ],
   "source": [
    "#14. How do you type a tuple value that only contains the integer 42?\n",
    "#Ans14- \n",
    "a=(42,)\n",
    "a"
   ]
  },
  {
   "cell_type": "code",
   "execution_count": 40,
   "id": "e202917e",
   "metadata": {},
   "outputs": [
    {
     "data": {
      "text/plain": [
       "[3, 4]"
      ]
     },
     "execution_count": 40,
     "metadata": {},
     "output_type": "execute_result"
    }
   ],
   "source": [
    "#15. How do you get a list value's tuple form? How do you get a tuple value's list form?\n",
    "#Ans15- \n",
    "t1 = (3,4)\n",
    "t = list(t1)\n",
    "t"
   ]
  },
  {
   "cell_type": "code",
   "execution_count": 41,
   "id": "47cd6296",
   "metadata": {},
   "outputs": [],
   "source": [
    "#16. Variables that \"contain\" list values are not necessarily lists themselves. Instead, what\n",
    "#do they contain?\n",
    "#Ans16- They contain references to list values"
   ]
  },
  {
   "cell_type": "code",
   "execution_count": null,
   "id": "9ccb6b1e",
   "metadata": {},
   "outputs": [],
   "source": [
    "#17. How do you distinguish between copy.copy() and copy.deepcopy()?\n",
    "#Ans17- The copy.copy() function will do a shallow copy of a list, The copy.deepcopy() function\n",
    "# will do a deep copy of a list. only copy.deepcopy() will duplicate any lists inside the list"
   ]
  }
 ],
 "metadata": {
  "kernelspec": {
   "display_name": "Python 3 (ipykernel)",
   "language": "python",
   "name": "python3"
  },
  "language_info": {
   "codemirror_mode": {
    "name": "ipython",
    "version": 3
   },
   "file_extension": ".py",
   "mimetype": "text/x-python",
   "name": "python",
   "nbconvert_exporter": "python",
   "pygments_lexer": "ipython3",
   "version": "3.9.12"
  }
 },
 "nbformat": 4,
 "nbformat_minor": 5
}
