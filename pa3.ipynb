{
 "cells": [
  {
   "cell_type": "code",
   "execution_count": 2,
   "id": "84859587",
   "metadata": {},
   "outputs": [],
   "source": [
    "#1. Why are functions advantageous to have in your programs?\n",
    "#Ans1- Functions reduce the need for duplicate code. This makes programs shorter, easier to read,\n",
    "# and easier to update."
   ]
  },
  {
   "cell_type": "code",
   "execution_count": 3,
   "id": "ad650e31",
   "metadata": {},
   "outputs": [],
   "source": [
    "#2. When does the code in a function run: when it's specified or when it's called?\n",
    "#Ans2- The code in a function executesor run when the function is called."
   ]
  },
  {
   "cell_type": "code",
   "execution_count": 4,
   "id": "4428a523",
   "metadata": {},
   "outputs": [],
   "source": [
    "#3. What statement creates a function?\n",
    "#Ans3- The “def” keyword is a statement for defining a function in Python. You start a function\n",
    "# with the def keyword, specify a name followed by a colon (:) sign. The “def” call creates the\n",
    "# function object and assigns it to the name given."
   ]
  },
  {
   "cell_type": "code",
   "execution_count": 5,
   "id": "52259bc9",
   "metadata": {},
   "outputs": [],
   "source": [
    "#4. What is the difference between a function and a function call?\n",
    "#Ans4- A function is a block of code that does a particular operation and returns a result. It\n",
    "#usually accepts inputs as parameters and returns a result. The parameters are not mandatory.\n",
    "#E.g:\n",
    "#Function add(a,b)\n",
    "#return a+ b\n",
    "#A function call is the code used to pass control to a function.\n",
    "#E.g.:\n",
    "#b = add(5,6)\n",
    "#Now b will have the value 11."
   ]
  },
  {
   "cell_type": "code",
   "execution_count": 6,
   "id": "9ea4a194",
   "metadata": {},
   "outputs": [],
   "source": [
    "#5. How many global scopes are there in a Python program? How many local scopes?\n",
    "#Ans5- There's only one global Python scope per program execution. This scope remains in \n",
    "# existence until the program terminates and all its names are forgotten."
   ]
  },
  {
   "cell_type": "code",
   "execution_count": 7,
   "id": "1fd79371",
   "metadata": {},
   "outputs": [],
   "source": [
    "#6. What happens to variables in a local scope when the function call returns?\n",
    "#Ans6- When the execution of the function terminates (returns), the local variables are destroyed.\n",
    "# Codelens helps you visualize this because the local variables disappear after the function\n",
    "# returns."
   ]
  },
  {
   "cell_type": "code",
   "execution_count": 8,
   "id": "b13ca2bf",
   "metadata": {},
   "outputs": [],
   "source": [
    "#7. What is the concept of a return value? Is it possible to have a return value in an expression?\n",
    "#Ans7-A return is a value that a function returns to the calling script or function when it \n",
    "# completes its task. A return value can be any one of the four variable types: handle, integer, \n",
    "# object, or string"
   ]
  },
  {
   "cell_type": "code",
   "execution_count": 9,
   "id": "4fc5721b",
   "metadata": {},
   "outputs": [],
   "source": [
    "#8. If a function does not have a return statement, what is the return value of a call to that\n",
    "# function?\n",
    "#Ans8- If a function doesn't specify a return value, it returns None ."
   ]
  },
  {
   "cell_type": "code",
   "execution_count": 10,
   "id": "0c588203",
   "metadata": {},
   "outputs": [],
   "source": [
    "#9. How do you make a function variable refer to the global variable?\n",
    "#Ans9- If you want to refer to a global variable in a function, you can use the global keyword to\n",
    "# declare which variables are global."
   ]
  },
  {
   "cell_type": "code",
   "execution_count": 11,
   "id": "3dc0b578",
   "metadata": {},
   "outputs": [],
   "source": [
    "#10. What is the data type of None?\n",
    "#Ans10- None is a data type of its own (NoneType)."
   ]
  },
  {
   "cell_type": "code",
   "execution_count": 12,
   "id": "243ea9fe",
   "metadata": {},
   "outputs": [],
   "source": [
    "#11. What does the sentence import areallyourpetsnamederic do?\n",
    "#Ans11-That import statement imports a module named areallyourpetsnamederic. "
   ]
  },
  {
   "cell_type": "code",
   "execution_count": 13,
   "id": "74ce77fa",
   "metadata": {},
   "outputs": [],
   "source": [
    "#12. If you had a bacon() feature in a spam module, what would you call it after importing spam?\n",
    "#Ans- This function can be called with spam. bacon()."
   ]
  },
  {
   "cell_type": "code",
   "execution_count": 14,
   "id": "bb78ea65",
   "metadata": {},
   "outputs": [],
   "source": [
    "#13. What can you do to save a programme from crashing if it encounters an error?\n",
    "#Ans13- When it encounters an error, the control is passed to the except block, skipping the code\n",
    "#in between. As seen in the above code, we have moved our code inside a try and except statement.\n",
    "#Try running the program and it should throw an error message instead of crashing the program."
   ]
  },
  {
   "cell_type": "code",
   "execution_count": 15,
   "id": "9d656b9a",
   "metadata": {},
   "outputs": [],
   "source": [
    "#14. What is the purpose of the try clause? What is the purpose of the except clause?\n",
    "#Ans14- The try block is used to check some code for errors i.e the code inside the try block\n",
    "# will execute when there is no error in the program. Whereas the code inside the except block\n",
    "# will execute whenever the program encounters some error in the preceding try block."
   ]
  },
  {
   "cell_type": "code",
   "execution_count": null,
   "id": "d85ab5ed",
   "metadata": {},
   "outputs": [],
   "source": []
  }
 ],
 "metadata": {
  "kernelspec": {
   "display_name": "Python 3 (ipykernel)",
   "language": "python",
   "name": "python3"
  },
  "language_info": {
   "codemirror_mode": {
    "name": "ipython",
    "version": 3
   },
   "file_extension": ".py",
   "mimetype": "text/x-python",
   "name": "python",
   "nbconvert_exporter": "python",
   "pygments_lexer": "ipython3",
   "version": "3.9.12"
  }
 },
 "nbformat": 4,
 "nbformat_minor": 5
}
