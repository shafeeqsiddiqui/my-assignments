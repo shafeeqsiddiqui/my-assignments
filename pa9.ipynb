{
 "cells": [
  {
   "cell_type": "markdown",
   "id": "068ca029",
   "metadata": {},
   "source": [
    "1. To what does a relative path refer?"
   ]
  },
  {
   "cell_type": "code",
   "execution_count": 1,
   "id": "7210a9f6",
   "metadata": {},
   "outputs": [],
   "source": [
    "#Ans1.A relative path is a way to specify the location of a directory relative to another directory"
   ]
  },
  {
   "cell_type": "markdown",
   "id": "288aea09",
   "metadata": {},
   "source": [
    "2. What does an absolute path start with your operating system?"
   ]
  },
  {
   "cell_type": "code",
   "execution_count": 6,
   "id": "8acf089f",
   "metadata": {},
   "outputs": [],
   "source": [
    "#Ans2- Always with the root folder (in Windows ‘C:\\’"
   ]
  },
  {
   "cell_type": "markdown",
   "id": "84bea308",
   "metadata": {},
   "source": [
    "3. What do the functions os.getcwd() and os.chdir() do?"
   ]
  },
  {
   "cell_type": "code",
   "execution_count": 3,
   "id": "00be1698",
   "metadata": {},
   "outputs": [],
   "source": [
    "#Ans3.  getcwd() returns current working directory of a process. and  chdir() used to change the current working directory to specified path. It takes only a single argument as new directory path."
   ]
  },
  {
   "cell_type": "markdown",
   "id": "f00317a7",
   "metadata": {},
   "source": [
    "4. What are the . and .. folders?"
   ]
  },
  {
   "cell_type": "code",
   "execution_count": 5,
   "id": "965feb5b",
   "metadata": {},
   "outputs": [],
   "source": [
    "#Ans4- (.) is shorthand for “this directory”\n",
    "#- (..) is shorthand for “the parent directory’"
   ]
  },
  {
   "cell_type": "markdown",
   "id": "b68315c6",
   "metadata": {},
   "source": [
    "5. In C:\\bacon\\eggs\\spam.txt, which part is the dir name, and which part is the base name?"
   ]
  },
  {
   "cell_type": "code",
   "execution_count": 7,
   "id": "cc940945",
   "metadata": {},
   "outputs": [],
   "source": [
    "#Ans5- C:\\bacon\\eggs is the dir name, while spam. txt is the base name."
   ]
  },
  {
   "cell_type": "markdown",
   "id": "bf75861a",
   "metadata": {},
   "source": [
    "6. What are the three “mode” arguments that can be passed to the open() function?"
   ]
  },
  {
   "cell_type": "code",
   "execution_count": 9,
   "id": "3802e94d",
   "metadata": {},
   "outputs": [],
   "source": [
    "#Ans6-  read/readlines, write, and append"
   ]
  },
  {
   "cell_type": "markdown",
   "id": "9d39faae",
   "metadata": {},
   "source": [
    "7. What happens if an existing file is opened in write mode?"
   ]
  },
  {
   "cell_type": "code",
   "execution_count": 10,
   "id": "07632965",
   "metadata": {},
   "outputs": [],
   "source": [
    "#Ans7-  It overwrites the existing file and starts from scratch"
   ]
  },
  {
   "cell_type": "markdown",
   "id": "e22d89dc",
   "metadata": {},
   "source": [
    "8. How do you tell the difference between read() and readlines()?"
   ]
  },
  {
   "cell_type": "code",
   "execution_count": 11,
   "id": "f301a462",
   "metadata": {},
   "outputs": [],
   "source": [
    "#Ans8- The read() method passes the entire file as a string\n",
    "# The readlines() method provides a list of string values - one string for each line of text."
   ]
  },
  {
   "cell_type": "markdown",
   "id": "153ce0e2",
   "metadata": {},
   "source": [
    "9.\tWhat data structure does a shelf value resemble?"
   ]
  },
  {
   "cell_type": "code",
   "execution_count": 12,
   "id": "618b7102",
   "metadata": {},
   "outputs": [],
   "source": [
    "#Ans9- Resembles a dictionary"
   ]
  },
  {
   "cell_type": "code",
   "execution_count": null,
   "id": "7e503327",
   "metadata": {},
   "outputs": [],
   "source": [
    "pwd"
   ]
  }
 ],
 "metadata": {
  "kernelspec": {
   "display_name": "Python 3 (ipykernel)",
   "language": "python",
   "name": "python3"
  },
  "language_info": {
   "codemirror_mode": {
    "name": "ipython",
    "version": 3
   },
   "file_extension": ".py",
   "mimetype": "text/x-python",
   "name": "python",
   "nbconvert_exporter": "python",
   "pygments_lexer": "ipython3",
   "version": "3.9.12"
  }
 },
 "nbformat": 4,
 "nbformat_minor": 5
}
