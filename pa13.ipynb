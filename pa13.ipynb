{
 "cells": [
  {
   "cell_type": "markdown",
   "id": "f92bb646",
   "metadata": {},
   "source": [
    "1. What advantages do Excel spreadsheets have over CSV spreadsheets?"
   ]
  },
  {
   "cell_type": "raw",
   "id": "b8ae2006",
   "metadata": {},
   "source": [
    " Ans1. CSV does not manipulate data and stores it as-is. Excel also allows the user the add-in feature.Ans1. Excel is more superior when compared with the CSV file format; thus, CSV consumes less amount of file size when the user is importing data."
   ]
  },
  {
   "cell_type": "markdown",
   "id": "ffabdfcc",
   "metadata": {},
   "source": [
    "2.What do you pass to csv.reader() and csv.writer() to create reader and writer objects?"
   ]
  },
  {
   "cell_type": "raw",
   "id": "6df66251",
   "metadata": {},
   "source": [
    "Ans2. writer() function is used to create a writer object. \n",
    "reader() is used to read the file"
   ]
  },
  {
   "cell_type": "markdown",
   "id": "d83d3d87",
   "metadata": {},
   "source": [
    "3. What modes do File objects for reader and writer objects need to be opened in?"
   ]
  },
  {
   "cell_type": "raw",
   "id": "5152221e",
   "metadata": {},
   "source": [
    "w+ Open a text file for both reading and writing.Open a text file for both reading and writing. If the file already exists, its contents are destroyed."
   ]
  },
  {
   "cell_type": "markdown",
   "id": "96eadb9a",
   "metadata": {},
   "source": [
    "4. What method takes a list argument and writes it to a CSV file?"
   ]
  },
  {
   "cell_type": "raw",
   "id": "62163609",
   "metadata": {},
   "source": [
    "writer() function. The csv. writer() function returns a writer object that converts the user's data into a delimited string. This string can later be used to write into CSV files using the writerow() function"
   ]
  },
  {
   "cell_type": "markdown",
   "id": "cebe683f",
   "metadata": {},
   "source": [
    "5. What do the keyword arguments delimiter and line terminator do?"
   ]
  },
  {
   "cell_type": "raw",
   "id": "9a251f48",
   "metadata": {},
   "source": [
    "A lineterminator is a string used to terminate lines produced by writer objects.\n",
    "The delimiter is the character that appears between cells on a row. By default, the delimiter for a CSV file is a comma."
   ]
  },
  {
   "cell_type": "markdown",
   "id": "9608f049",
   "metadata": {},
   "source": [
    "6. What function takes a string of JSON data and returns a Python data structure?"
   ]
  },
  {
   "cell_type": "raw",
   "id": "2cc822a5",
   "metadata": {},
   "source": [
    "Ans6.loads() method return Python data structure of JSON string or data."
   ]
  },
  {
   "cell_type": "markdown",
   "id": "c178a13e",
   "metadata": {},
   "source": [
    "7. What function takes a Python data structure and returns a string of JSON data?"
   ]
  },
  {
   "cell_type": "raw",
   "id": "8c833fd9",
   "metadata": {},
   "source": [
    " by using the json. dumps() method."
   ]
  },
  {
   "cell_type": "code",
   "execution_count": null,
   "id": "b80287d8",
   "metadata": {},
   "outputs": [],
   "source": []
  }
 ],
 "metadata": {
  "kernelspec": {
   "display_name": "Python 3 (ipykernel)",
   "language": "python",
   "name": "python3"
  },
  "language_info": {
   "codemirror_mode": {
    "name": "ipython",
    "version": 3
   },
   "file_extension": ".py",
   "mimetype": "text/x-python",
   "name": "python",
   "nbconvert_exporter": "python",
   "pygments_lexer": "ipython3",
   "version": "3.9.12"
  }
 },
 "nbformat": 4,
 "nbformat_minor": 5
}
