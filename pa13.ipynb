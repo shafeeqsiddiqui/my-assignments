{
 "cells": [
  {
   "cell_type": "markdown",
   "id": "f92bb646",
   "metadata": {},
   "source": [
    "1. What advantages do Excel spreadsheets have over CSV spreadsheets?"
   ]
  },
  {
   "cell_type": "code",
   "execution_count": 2,
   "id": "086a5c4f",
   "metadata": {},
   "outputs": [],
   "source": [
    "#Ans1. CSV does not manipulate data and stores it as-is. Excel also allows the user the add-in #feature.Ans1. Excel is more superior when compared with the CSV file format; thus, CSV consumes #less amount of file size when the user is importing data."
   ]
  },
  {
   "cell_type": "markdown",
   "id": "0994fdca",
   "metadata": {},
   "source": [
    "2.What do you pass to csv.reader() and csv.writer() to create reader and writer objects?"
   ]
  },
  {
   "cell_type": "code",
   "execution_count": 3,
   "id": "ee7a158d",
   "metadata": {},
   "outputs": [],
   "source": [
    "#Ans2. writer() function is used to create a writer object. \n",
    "#reader() is used to read the file"
   ]
  },
  {
   "cell_type": "markdown",
   "id": "a2d0a672",
   "metadata": {},
   "source": [
    "3. What modes do File objects for reader and writer objects need to be opened in?"
   ]
  },
  {
   "cell_type": "code",
   "execution_count": 4,
   "id": "e02f0d63",
   "metadata": {},
   "outputs": [],
   "source": [
    "#Ans3. w+ Open a text file for both reading and writing.Open a text file for both reading and # writing. If the file already exists, its contents are destroyed."
   ]
  },
  {
   "cell_type": "markdown",
   "id": "756c32e1",
   "metadata": {},
   "source": [
    "4. What method takes a list argument and writes it to a CSV file?"
   ]
  },
  {
   "cell_type": "code",
   "execution_count": 5,
   "id": "045f4362",
   "metadata": {},
   "outputs": [],
   "source": [
    "#Ans4. writer() function. The csv. writer() function returns a writer object that converts the user's data into a delimited string. This string can later be used to write into CSV files using the writerow() function"
   ]
  },
  {
   "cell_type": "markdown",
   "id": "8decc381",
   "metadata": {},
   "source": [
    "5. What do the keyword arguments delimiter and line terminator do?"
   ]
  },
  {
   "cell_type": "code",
   "execution_count": 6,
   "id": "7021b02f",
   "metadata": {},
   "outputs": [],
   "source": [
    "#Ans5. A lineterminator is a string used to terminate lines produced by writer objects.\n",
    "# The delimiter is the character that appears between cells on a row. By default, the delimiter # for a CSV file is a comma."
   ]
  },
  {
   "cell_type": "markdown",
   "id": "9608f049",
   "metadata": {},
   "source": [
    "6. What function takes a string of JSON data and returns a Python data structure?"
   ]
  },
  {
   "cell_type": "code",
   "execution_count": 7,
   "id": "0f17d3be",
   "metadata": {},
   "outputs": [],
   "source": [
    "#Ans6.loads() method return Python data structure of JSON string or data."
   ]
  },
  {
   "cell_type": "markdown",
   "id": "a11abb05",
   "metadata": {},
   "source": [
    "7. What function takes a Python data structure and returns a string of JSON data?"
   ]
  },
  {
   "cell_type": "code",
   "execution_count": 8,
   "id": "b0e2f569",
   "metadata": {},
   "outputs": [],
   "source": [
    "#Ans7.  by using the json. dumps() method."
   ]
  },
  {
   "cell_type": "code",
   "execution_count": null,
   "id": "d43b3bec",
   "metadata": {},
   "outputs": [],
   "source": []
  }
 ],
 "metadata": {
  "kernelspec": {
   "display_name": "Python 3 (ipykernel)",
   "language": "python",
   "name": "python3"
  },
  "language_info": {
   "codemirror_mode": {
    "name": "ipython",
    "version": 3
   },
   "file_extension": ".py",
   "mimetype": "text/x-python",
   "name": "python",
   "nbconvert_exporter": "python",
   "pygments_lexer": "ipython3",
   "version": "3.9.12"
  }
 },
 "nbformat": 4,
 "nbformat_minor": 5
}
